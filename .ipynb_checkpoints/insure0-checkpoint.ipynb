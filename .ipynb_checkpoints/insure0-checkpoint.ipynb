{
 "cells": [
  {
   "cell_type": "code",
   "execution_count": 1,
   "metadata": {
    "colab": {},
    "colab_type": "code",
    "id": "qgUiKeO7siv9"
   },
   "outputs": [],
   "source": [
    "import pandas as pd\n",
    "import numpy as np\n",
    "np.random.seed(1234)"
   ]
  },
  {
   "cell_type": "code",
   "execution_count": 2,
   "metadata": {
    "colab": {
     "base_uri": "https://localhost:8080/",
     "height": 224
    },
    "colab_type": "code",
    "executionInfo": {
     "elapsed": 3386,
     "status": "ok",
     "timestamp": 1589257483007,
     "user": {
      "displayName": "최승일",
      "photoUrl": "",
      "userId": "12284834711713380669"
     },
     "user_tz": -540
    },
    "id": "HE4J2dSXtwcJ",
    "outputId": "23d36e6a-1a44-4132-fe84-21646f540aa1"
   },
   "outputs": [
    {
     "data": {
      "text/html": [
       "<div>\n",
       "<style scoped>\n",
       "    .dataframe tbody tr th:only-of-type {\n",
       "        vertical-align: middle;\n",
       "    }\n",
       "\n",
       "    .dataframe tbody tr th {\n",
       "        vertical-align: top;\n",
       "    }\n",
       "\n",
       "    .dataframe thead th {\n",
       "        text-align: right;\n",
       "    }\n",
       "</style>\n",
       "<table border=\"1\" class=\"dataframe\">\n",
       "  <thead>\n",
       "    <tr style=\"text-align: right;\">\n",
       "      <th></th>\n",
       "      <th>id</th>\n",
       "      <th>target</th>\n",
       "      <th>car_01_cat</th>\n",
       "      <th>car_02_cat</th>\n",
       "      <th>car_03_cat</th>\n",
       "      <th>car_04_cat</th>\n",
       "      <th>car_05</th>\n",
       "      <th>car_06</th>\n",
       "      <th>car_07_cat</th>\n",
       "      <th>car_08_cat</th>\n",
       "      <th>...</th>\n",
       "      <th>idx_14</th>\n",
       "      <th>idx_15_bin</th>\n",
       "      <th>idx_16_bin</th>\n",
       "      <th>idx_17</th>\n",
       "      <th>idx_18</th>\n",
       "      <th>idx_19</th>\n",
       "      <th>idx_20</th>\n",
       "      <th>loc_01</th>\n",
       "      <th>loc_02</th>\n",
       "      <th>loc_03</th>\n",
       "    </tr>\n",
       "  </thead>\n",
       "  <tbody>\n",
       "    <tr>\n",
       "      <th>0</th>\n",
       "      <td>C000000</td>\n",
       "      <td>0</td>\n",
       "      <td>4</td>\n",
       "      <td>-1</td>\n",
       "      <td>0</td>\n",
       "      <td>12</td>\n",
       "      <td>3.316625</td>\n",
       "      <td>0.370810</td>\n",
       "      <td>1</td>\n",
       "      <td>1</td>\n",
       "      <td>...</td>\n",
       "      <td>7</td>\n",
       "      <td>0</td>\n",
       "      <td>0</td>\n",
       "      <td>0</td>\n",
       "      <td>3</td>\n",
       "      <td>7</td>\n",
       "      <td>1</td>\n",
       "      <td>0.6</td>\n",
       "      <td>0.7</td>\n",
       "      <td>0.878564</td>\n",
       "    </tr>\n",
       "    <tr>\n",
       "      <th>1</th>\n",
       "      <td>C000001</td>\n",
       "      <td>0</td>\n",
       "      <td>0</td>\n",
       "      <td>1</td>\n",
       "      <td>0</td>\n",
       "      <td>39</td>\n",
       "      <td>2.449490</td>\n",
       "      <td>0.374433</td>\n",
       "      <td>1</td>\n",
       "      <td>1</td>\n",
       "      <td>...</td>\n",
       "      <td>11</td>\n",
       "      <td>0</td>\n",
       "      <td>1</td>\n",
       "      <td>0</td>\n",
       "      <td>6</td>\n",
       "      <td>8</td>\n",
       "      <td>1</td>\n",
       "      <td>0.6</td>\n",
       "      <td>0.6</td>\n",
       "      <td>0.981708</td>\n",
       "    </tr>\n",
       "    <tr>\n",
       "      <th>2</th>\n",
       "      <td>C000002</td>\n",
       "      <td>0</td>\n",
       "      <td>0</td>\n",
       "      <td>-1</td>\n",
       "      <td>2</td>\n",
       "      <td>100</td>\n",
       "      <td>3.464102</td>\n",
       "      <td>0.423084</td>\n",
       "      <td>1</td>\n",
       "      <td>1</td>\n",
       "      <td>...</td>\n",
       "      <td>11</td>\n",
       "      <td>0</td>\n",
       "      <td>0</td>\n",
       "      <td>0</td>\n",
       "      <td>1</td>\n",
       "      <td>8</td>\n",
       "      <td>3</td>\n",
       "      <td>0.2</td>\n",
       "      <td>0.9</td>\n",
       "      <td>0.495606</td>\n",
       "    </tr>\n",
       "    <tr>\n",
       "      <th>3</th>\n",
       "      <td>C000003</td>\n",
       "      <td>0</td>\n",
       "      <td>9</td>\n",
       "      <td>1</td>\n",
       "      <td>0</td>\n",
       "      <td>93</td>\n",
       "      <td>3.741657</td>\n",
       "      <td>0.316228</td>\n",
       "      <td>0</td>\n",
       "      <td>0</td>\n",
       "      <td>...</td>\n",
       "      <td>7</td>\n",
       "      <td>0</td>\n",
       "      <td>0</td>\n",
       "      <td>3</td>\n",
       "      <td>3</td>\n",
       "      <td>8</td>\n",
       "      <td>4</td>\n",
       "      <td>1.8</td>\n",
       "      <td>0.9</td>\n",
       "      <td>2.066549</td>\n",
       "    </tr>\n",
       "    <tr>\n",
       "      <th>4</th>\n",
       "      <td>C000004</td>\n",
       "      <td>0</td>\n",
       "      <td>0</td>\n",
       "      <td>0</td>\n",
       "      <td>1</td>\n",
       "      <td>104</td>\n",
       "      <td>3.741657</td>\n",
       "      <td>0.430116</td>\n",
       "      <td>1</td>\n",
       "      <td>0</td>\n",
       "      <td>...</td>\n",
       "      <td>6</td>\n",
       "      <td>0</td>\n",
       "      <td>0</td>\n",
       "      <td>1</td>\n",
       "      <td>1</td>\n",
       "      <td>7</td>\n",
       "      <td>4</td>\n",
       "      <td>0.0</td>\n",
       "      <td>0.4</td>\n",
       "      <td>0.740355</td>\n",
       "    </tr>\n",
       "  </tbody>\n",
       "</table>\n",
       "<p>5 rows × 59 columns</p>\n",
       "</div>"
      ],
      "text/plain": [
       "        id  target  car_01_cat  car_02_cat  car_03_cat  car_04_cat    car_05  \\\n",
       "0  C000000       0           4          -1           0          12  3.316625   \n",
       "1  C000001       0           0           1           0          39  2.449490   \n",
       "2  C000002       0           0          -1           2         100  3.464102   \n",
       "3  C000003       0           9           1           0          93  3.741657   \n",
       "4  C000004       0           0           0           1         104  3.741657   \n",
       "\n",
       "     car_06  car_07_cat  car_08_cat  ...  idx_14  idx_15_bin  idx_16_bin  \\\n",
       "0  0.370810           1           1  ...       7           0           0   \n",
       "1  0.374433           1           1  ...      11           0           1   \n",
       "2  0.423084           1           1  ...      11           0           0   \n",
       "3  0.316228           0           0  ...       7           0           0   \n",
       "4  0.430116           1           0  ...       6           0           0   \n",
       "\n",
       "   idx_17  idx_18  idx_19  idx_20  loc_01  loc_02    loc_03  \n",
       "0       0       3       7       1     0.6     0.7  0.878564  \n",
       "1       0       6       8       1     0.6     0.6  0.981708  \n",
       "2       0       1       8       3     0.2     0.9  0.495606  \n",
       "3       3       3       8       4     1.8     0.9  2.066549  \n",
       "4       1       1       7       4     0.0     0.4  0.740355  \n",
       "\n",
       "[5 rows x 59 columns]"
      ]
     },
     "execution_count": 2,
     "metadata": {},
     "output_type": "execute_result"
    }
   ],
   "source": [
    "df = pd.read_csv('C:/Users/user/mywork/insure.csv')\n",
    "df.head()"
   ]
  },
  {
   "cell_type": "code",
   "execution_count": 3,
   "metadata": {
    "colab": {
     "base_uri": "https://localhost:8080/",
     "height": 224
    },
    "colab_type": "code",
    "executionInfo": {
     "elapsed": 836,
     "status": "ok",
     "timestamp": 1589257486098,
     "user": {
      "displayName": "최승일",
      "photoUrl": "",
      "userId": "12284834711713380669"
     },
     "user_tz": -540
    },
    "id": "JFadru4C-N6z",
    "outputId": "43b22212-5acc-49ff-829b-6443c7637730"
   },
   "outputs": [
    {
     "data": {
      "text/html": [
       "<div>\n",
       "<style scoped>\n",
       "    .dataframe tbody tr th:only-of-type {\n",
       "        vertical-align: middle;\n",
       "    }\n",
       "\n",
       "    .dataframe tbody tr th {\n",
       "        vertical-align: top;\n",
       "    }\n",
       "\n",
       "    .dataframe thead th {\n",
       "        text-align: right;\n",
       "    }\n",
       "</style>\n",
       "<table border=\"1\" class=\"dataframe\">\n",
       "  <thead>\n",
       "    <tr style=\"text-align: right;\">\n",
       "      <th></th>\n",
       "      <th>target</th>\n",
       "      <th>car_01_cat</th>\n",
       "      <th>car_02_cat</th>\n",
       "      <th>car_03_cat</th>\n",
       "      <th>car_04_cat</th>\n",
       "      <th>car_05</th>\n",
       "      <th>car_06</th>\n",
       "      <th>car_07_cat</th>\n",
       "      <th>car_08_cat</th>\n",
       "      <th>car_09</th>\n",
       "      <th>...</th>\n",
       "      <th>idx_14</th>\n",
       "      <th>idx_15_bin</th>\n",
       "      <th>idx_16_bin</th>\n",
       "      <th>idx_17</th>\n",
       "      <th>idx_18</th>\n",
       "      <th>idx_19</th>\n",
       "      <th>idx_20</th>\n",
       "      <th>loc_01</th>\n",
       "      <th>loc_02</th>\n",
       "      <th>loc_03</th>\n",
       "    </tr>\n",
       "  </thead>\n",
       "  <tbody>\n",
       "    <tr>\n",
       "      <th>0</th>\n",
       "      <td>0</td>\n",
       "      <td>4</td>\n",
       "      <td>-1</td>\n",
       "      <td>0</td>\n",
       "      <td>12</td>\n",
       "      <td>3.316625</td>\n",
       "      <td>0.370810</td>\n",
       "      <td>1</td>\n",
       "      <td>1</td>\n",
       "      <td>0.754792</td>\n",
       "      <td>...</td>\n",
       "      <td>7</td>\n",
       "      <td>0</td>\n",
       "      <td>0</td>\n",
       "      <td>0</td>\n",
       "      <td>3</td>\n",
       "      <td>7</td>\n",
       "      <td>1</td>\n",
       "      <td>0.6</td>\n",
       "      <td>0.7</td>\n",
       "      <td>0.878564</td>\n",
       "    </tr>\n",
       "    <tr>\n",
       "      <th>1</th>\n",
       "      <td>0</td>\n",
       "      <td>0</td>\n",
       "      <td>1</td>\n",
       "      <td>0</td>\n",
       "      <td>39</td>\n",
       "      <td>2.449490</td>\n",
       "      <td>0.374433</td>\n",
       "      <td>1</td>\n",
       "      <td>1</td>\n",
       "      <td>0.614780</td>\n",
       "      <td>...</td>\n",
       "      <td>11</td>\n",
       "      <td>0</td>\n",
       "      <td>1</td>\n",
       "      <td>0</td>\n",
       "      <td>6</td>\n",
       "      <td>8</td>\n",
       "      <td>1</td>\n",
       "      <td>0.6</td>\n",
       "      <td>0.6</td>\n",
       "      <td>0.981708</td>\n",
       "    </tr>\n",
       "    <tr>\n",
       "      <th>2</th>\n",
       "      <td>0</td>\n",
       "      <td>0</td>\n",
       "      <td>-1</td>\n",
       "      <td>2</td>\n",
       "      <td>100</td>\n",
       "      <td>3.464102</td>\n",
       "      <td>0.423084</td>\n",
       "      <td>1</td>\n",
       "      <td>1</td>\n",
       "      <td>0.815665</td>\n",
       "      <td>...</td>\n",
       "      <td>11</td>\n",
       "      <td>0</td>\n",
       "      <td>0</td>\n",
       "      <td>0</td>\n",
       "      <td>1</td>\n",
       "      <td>8</td>\n",
       "      <td>3</td>\n",
       "      <td>0.2</td>\n",
       "      <td>0.9</td>\n",
       "      <td>0.495606</td>\n",
       "    </tr>\n",
       "    <tr>\n",
       "      <th>3</th>\n",
       "      <td>0</td>\n",
       "      <td>9</td>\n",
       "      <td>1</td>\n",
       "      <td>0</td>\n",
       "      <td>93</td>\n",
       "      <td>3.741657</td>\n",
       "      <td>0.316228</td>\n",
       "      <td>0</td>\n",
       "      <td>0</td>\n",
       "      <td>1.068114</td>\n",
       "      <td>...</td>\n",
       "      <td>7</td>\n",
       "      <td>0</td>\n",
       "      <td>0</td>\n",
       "      <td>3</td>\n",
       "      <td>3</td>\n",
       "      <td>8</td>\n",
       "      <td>4</td>\n",
       "      <td>1.8</td>\n",
       "      <td>0.9</td>\n",
       "      <td>2.066549</td>\n",
       "    </tr>\n",
       "    <tr>\n",
       "      <th>4</th>\n",
       "      <td>0</td>\n",
       "      <td>0</td>\n",
       "      <td>0</td>\n",
       "      <td>1</td>\n",
       "      <td>104</td>\n",
       "      <td>3.741657</td>\n",
       "      <td>0.430116</td>\n",
       "      <td>1</td>\n",
       "      <td>0</td>\n",
       "      <td>1.509768</td>\n",
       "      <td>...</td>\n",
       "      <td>6</td>\n",
       "      <td>0</td>\n",
       "      <td>0</td>\n",
       "      <td>1</td>\n",
       "      <td>1</td>\n",
       "      <td>7</td>\n",
       "      <td>4</td>\n",
       "      <td>0.0</td>\n",
       "      <td>0.4</td>\n",
       "      <td>0.740355</td>\n",
       "    </tr>\n",
       "  </tbody>\n",
       "</table>\n",
       "<p>5 rows × 58 columns</p>\n",
       "</div>"
      ],
      "text/plain": [
       "   target  car_01_cat  car_02_cat  car_03_cat  car_04_cat    car_05    car_06  \\\n",
       "0       0           4          -1           0          12  3.316625  0.370810   \n",
       "1       0           0           1           0          39  2.449490  0.374433   \n",
       "2       0           0          -1           2         100  3.464102  0.423084   \n",
       "3       0           9           1           0          93  3.741657  0.316228   \n",
       "4       0           0           0           1         104  3.741657  0.430116   \n",
       "\n",
       "   car_07_cat  car_08_cat    car_09  ...  idx_14  idx_15_bin  idx_16_bin  \\\n",
       "0           1           1  0.754792  ...       7           0           0   \n",
       "1           1           1  0.614780  ...      11           0           1   \n",
       "2           1           1  0.815665  ...      11           0           0   \n",
       "3           0           0  1.068114  ...       7           0           0   \n",
       "4           1           0  1.509768  ...       6           0           0   \n",
       "\n",
       "   idx_17  idx_18  idx_19  idx_20  loc_01  loc_02    loc_03  \n",
       "0       0       3       7       1     0.6     0.7  0.878564  \n",
       "1       0       6       8       1     0.6     0.6  0.981708  \n",
       "2       0       1       8       3     0.2     0.9  0.495606  \n",
       "3       3       3       8       4     1.8     0.9  2.066549  \n",
       "4       1       1       7       4     0.0     0.4  0.740355  \n",
       "\n",
       "[5 rows x 58 columns]"
      ]
     },
     "execution_count": 3,
     "metadata": {},
     "output_type": "execute_result"
    }
   ],
   "source": [
    "df = df.drop('id', axis='columns')\n",
    "df.head()"
   ]
  },
  {
   "cell_type": "code",
   "execution_count": 4,
   "metadata": {
    "colab": {
     "base_uri": "https://localhost:8080/",
     "height": 1000
    },
    "colab_type": "code",
    "executionInfo": {
     "elapsed": 923,
     "status": "ok",
     "timestamp": 1589257490095,
     "user": {
      "displayName": "최승일",
      "photoUrl": "",
      "userId": "12284834711713380669"
     },
     "user_tz": -540
    },
    "id": "k9La0FvgCvRu",
    "outputId": "b5ddea3d-a019-47ac-9a70-67cdf09b4835"
   },
   "outputs": [],
   "source": [
    "#df.car_02_cat.fillna('UNK', inplace=True)\n",
    "#df.car_14_cat.fillna('UNK', inplace=True)\n",
    "#df.isnull().sum()"
   ]
  },
  {
   "cell_type": "code",
   "execution_count": 5,
   "metadata": {
    "colab": {
     "base_uri": "https://localhost:8080/",
     "height": 89
    },
    "colab_type": "code",
    "executionInfo": {
     "elapsed": 808,
     "status": "ok",
     "timestamp": 1589257494592,
     "user": {
      "displayName": "최승일",
      "photoUrl": "",
      "userId": "12284834711713380669"
     },
     "user_tz": -540
    },
    "id": "PCaSA2gMDrRU",
    "outputId": "1343125b-4740-46d9-95e0-ac769b67e6b4"
   },
   "outputs": [
    {
     "data": {
      "text/plain": [
       " 1    387281\n",
       " 0     21386\n",
       "-1      8045\n",
       "Name: car_16_cat, dtype: int64"
      ]
     },
     "execution_count": 5,
     "metadata": {},
     "output_type": "execute_result"
    }
   ],
   "source": [
    "df.car_01_cat.value_counts()\n",
    "df.car_02_cat.value_counts()\n",
    "df.car_03_cat.value_counts()\n",
    "df.car_04_cat.value_counts()\n",
    "df.car_07_cat.value_counts()\n",
    "df.car_08_cat.value_counts()\n",
    "df.car_12_cat.value_counts()\n",
    "df.car_13_cat.value_counts()\n",
    "df.car_14_cat.value_counts()\n",
    "df.car_15_cat.value_counts()\n",
    "df.car_16_cat.value_counts()"
   ]
  },
  {
   "cell_type": "code",
   "execution_count": 6,
   "metadata": {
    "colab": {
     "base_uri": "https://localhost:8080/",
     "height": 71
    },
    "colab_type": "code",
    "executionInfo": {
     "elapsed": 879,
     "status": "ok",
     "timestamp": 1589257498857,
     "user": {
      "displayName": "최승일",
      "photoUrl": "",
      "userId": "12284834711713380669"
     },
     "user_tz": -540
    },
    "id": "y7EN7B9TFTMt",
    "outputId": "f58f13a8-a111-43f9-ee62-903539dd255c"
   },
   "outputs": [
    {
     "data": {
      "text/plain": [
       "0    309901\n",
       "1    106811\n",
       "Name: cus_18_bin, dtype: int64"
      ]
     },
     "execution_count": 6,
     "metadata": {},
     "output_type": "execute_result"
    }
   ],
   "source": [
    "df.cus_01_bin.value_counts()\n",
    "df.cus_03_bin.value_counts()\n",
    "df.cus_04_bin.value_counts()\n",
    "df.cus_06_bin.value_counts()\n",
    "df.cus_07_bin.value_counts()\n",
    "df.cus_08_bin.value_counts()\n",
    "df.cus_10_cat.value_counts()\n",
    "df.cus_11_bin.value_counts()\n",
    "df.cus_12_bin.value_counts()\n",
    "df.cus_14_cat.value_counts()\n",
    "df.cus_15_bin.value_counts()\n",
    "df.cus_16_cat.value_counts()\n",
    "df.cus_17_bin.value_counts()\n",
    "df.cus_18_bin.value_counts()"
   ]
  },
  {
   "cell_type": "code",
   "execution_count": 7,
   "metadata": {
    "colab": {
     "base_uri": "https://localhost:8080/",
     "height": 71
    },
    "colab_type": "code",
    "executionInfo": {
     "elapsed": 789,
     "status": "ok",
     "timestamp": 1589257502779,
     "user": {
      "displayName": "최승일",
      "photoUrl": "",
      "userId": "12284834711713380669"
     },
     "user_tz": -540
    },
    "id": "V6ylI1TsGIqF",
    "outputId": "06465e6d-7677-4b87-d85d-218e96e91189"
   },
   "outputs": [
    {
     "data": {
      "text/plain": [
       "0    352846\n",
       "1     63866\n",
       "Name: idx_16_bin, dtype: int64"
      ]
     },
     "execution_count": 7,
     "metadata": {},
     "output_type": "execute_result"
    }
   ],
   "source": [
    "df.idx_05_bin.value_counts()\n",
    "df.idx_06_bin.value_counts()\n",
    "df.idx_13_bin.value_counts()\n",
    "df.idx_15_bin.value_counts()\n",
    "df.idx_16_bin.value_counts()"
   ]
  },
  {
   "cell_type": "code",
   "execution_count": 8,
   "metadata": {
    "colab": {
     "base_uri": "https://localhost:8080/",
     "height": 224
    },
    "colab_type": "code",
    "executionInfo": {
     "elapsed": 861,
     "status": "ok",
     "timestamp": 1589257506470,
     "user": {
      "displayName": "최승일",
      "photoUrl": "",
      "userId": "12284834711713380669"
     },
     "user_tz": -540
    },
    "id": "BYCJ--FKuqim",
    "outputId": "64aa6d43-fa85-4f05-e68c-ed8d61c548a3"
   },
   "outputs": [
    {
     "data": {
      "text/html": [
       "<div>\n",
       "<style scoped>\n",
       "    .dataframe tbody tr th:only-of-type {\n",
       "        vertical-align: middle;\n",
       "    }\n",
       "\n",
       "    .dataframe tbody tr th {\n",
       "        vertical-align: top;\n",
       "    }\n",
       "\n",
       "    .dataframe thead th {\n",
       "        text-align: right;\n",
       "    }\n",
       "</style>\n",
       "<table border=\"1\" class=\"dataframe\">\n",
       "  <thead>\n",
       "    <tr style=\"text-align: right;\">\n",
       "      <th></th>\n",
       "      <th>car_01_cat</th>\n",
       "      <th>car_02_cat</th>\n",
       "      <th>car_03_cat</th>\n",
       "      <th>car_04_cat</th>\n",
       "      <th>car_05</th>\n",
       "      <th>car_06</th>\n",
       "      <th>car_07_cat</th>\n",
       "      <th>car_08_cat</th>\n",
       "      <th>car_09</th>\n",
       "      <th>car_10</th>\n",
       "      <th>...</th>\n",
       "      <th>idx_14</th>\n",
       "      <th>idx_15_bin</th>\n",
       "      <th>idx_16_bin</th>\n",
       "      <th>idx_17</th>\n",
       "      <th>idx_18</th>\n",
       "      <th>idx_19</th>\n",
       "      <th>idx_20</th>\n",
       "      <th>loc_01</th>\n",
       "      <th>loc_02</th>\n",
       "      <th>loc_03</th>\n",
       "    </tr>\n",
       "  </thead>\n",
       "  <tbody>\n",
       "    <tr>\n",
       "      <th>0</th>\n",
       "      <td>4</td>\n",
       "      <td>-1</td>\n",
       "      <td>0</td>\n",
       "      <td>12</td>\n",
       "      <td>3.316625</td>\n",
       "      <td>0.370810</td>\n",
       "      <td>1</td>\n",
       "      <td>1</td>\n",
       "      <td>0.754792</td>\n",
       "      <td>3</td>\n",
       "      <td>...</td>\n",
       "      <td>7</td>\n",
       "      <td>0</td>\n",
       "      <td>0</td>\n",
       "      <td>0</td>\n",
       "      <td>3</td>\n",
       "      <td>7</td>\n",
       "      <td>1</td>\n",
       "      <td>0.6</td>\n",
       "      <td>0.7</td>\n",
       "      <td>0.878564</td>\n",
       "    </tr>\n",
       "    <tr>\n",
       "      <th>1</th>\n",
       "      <td>0</td>\n",
       "      <td>1</td>\n",
       "      <td>0</td>\n",
       "      <td>39</td>\n",
       "      <td>2.449490</td>\n",
       "      <td>0.374433</td>\n",
       "      <td>1</td>\n",
       "      <td>1</td>\n",
       "      <td>0.614780</td>\n",
       "      <td>1</td>\n",
       "      <td>...</td>\n",
       "      <td>11</td>\n",
       "      <td>0</td>\n",
       "      <td>1</td>\n",
       "      <td>0</td>\n",
       "      <td>6</td>\n",
       "      <td>8</td>\n",
       "      <td>1</td>\n",
       "      <td>0.6</td>\n",
       "      <td>0.6</td>\n",
       "      <td>0.981708</td>\n",
       "    </tr>\n",
       "    <tr>\n",
       "      <th>2</th>\n",
       "      <td>0</td>\n",
       "      <td>-1</td>\n",
       "      <td>2</td>\n",
       "      <td>100</td>\n",
       "      <td>3.464102</td>\n",
       "      <td>0.423084</td>\n",
       "      <td>1</td>\n",
       "      <td>1</td>\n",
       "      <td>0.815665</td>\n",
       "      <td>0</td>\n",
       "      <td>...</td>\n",
       "      <td>11</td>\n",
       "      <td>0</td>\n",
       "      <td>0</td>\n",
       "      <td>0</td>\n",
       "      <td>1</td>\n",
       "      <td>8</td>\n",
       "      <td>3</td>\n",
       "      <td>0.2</td>\n",
       "      <td>0.9</td>\n",
       "      <td>0.495606</td>\n",
       "    </tr>\n",
       "    <tr>\n",
       "      <th>3</th>\n",
       "      <td>9</td>\n",
       "      <td>1</td>\n",
       "      <td>0</td>\n",
       "      <td>93</td>\n",
       "      <td>3.741657</td>\n",
       "      <td>0.316228</td>\n",
       "      <td>0</td>\n",
       "      <td>0</td>\n",
       "      <td>1.068114</td>\n",
       "      <td>3</td>\n",
       "      <td>...</td>\n",
       "      <td>7</td>\n",
       "      <td>0</td>\n",
       "      <td>0</td>\n",
       "      <td>3</td>\n",
       "      <td>3</td>\n",
       "      <td>8</td>\n",
       "      <td>4</td>\n",
       "      <td>1.8</td>\n",
       "      <td>0.9</td>\n",
       "      <td>2.066549</td>\n",
       "    </tr>\n",
       "    <tr>\n",
       "      <th>4</th>\n",
       "      <td>0</td>\n",
       "      <td>0</td>\n",
       "      <td>1</td>\n",
       "      <td>104</td>\n",
       "      <td>3.741657</td>\n",
       "      <td>0.430116</td>\n",
       "      <td>1</td>\n",
       "      <td>0</td>\n",
       "      <td>1.509768</td>\n",
       "      <td>2</td>\n",
       "      <td>...</td>\n",
       "      <td>6</td>\n",
       "      <td>0</td>\n",
       "      <td>0</td>\n",
       "      <td>1</td>\n",
       "      <td>1</td>\n",
       "      <td>7</td>\n",
       "      <td>4</td>\n",
       "      <td>0.0</td>\n",
       "      <td>0.4</td>\n",
       "      <td>0.740355</td>\n",
       "    </tr>\n",
       "  </tbody>\n",
       "</table>\n",
       "<p>5 rows × 57 columns</p>\n",
       "</div>"
      ],
      "text/plain": [
       "   car_01_cat  car_02_cat  car_03_cat  car_04_cat    car_05    car_06  \\\n",
       "0           4          -1           0          12  3.316625  0.370810   \n",
       "1           0           1           0          39  2.449490  0.374433   \n",
       "2           0          -1           2         100  3.464102  0.423084   \n",
       "3           9           1           0          93  3.741657  0.316228   \n",
       "4           0           0           1         104  3.741657  0.430116   \n",
       "\n",
       "   car_07_cat  car_08_cat    car_09  car_10  ...  idx_14  idx_15_bin  \\\n",
       "0           1           1  0.754792       3  ...       7           0   \n",
       "1           1           1  0.614780       1  ...      11           0   \n",
       "2           1           1  0.815665       0  ...      11           0   \n",
       "3           0           0  1.068114       3  ...       7           0   \n",
       "4           1           0  1.509768       2  ...       6           0   \n",
       "\n",
       "   idx_16_bin  idx_17  idx_18  idx_19  idx_20  loc_01  loc_02    loc_03  \n",
       "0           0       0       3       7       1     0.6     0.7  0.878564  \n",
       "1           1       0       6       8       1     0.6     0.6  0.981708  \n",
       "2           0       0       1       8       3     0.2     0.9  0.495606  \n",
       "3           0       3       3       8       4     1.8     0.9  2.066549  \n",
       "4           0       1       1       7       4     0.0     0.4  0.740355  \n",
       "\n",
       "[5 rows x 57 columns]"
      ]
     },
     "execution_count": 8,
     "metadata": {},
     "output_type": "execute_result"
    }
   ],
   "source": [
    "y = df.target\n",
    "df = df.drop('target', axis = 'columns')\n",
    "df.head()"
   ]
  },
  {
   "cell_type": "code",
   "execution_count": 1,
   "metadata": {},
   "outputs": [
    {
     "name": "stdout",
     "output_type": "stream",
     "text": [
      "Requirement already satisfied: scikit-learn in c:\\users\\user\\anaconda3\\lib\\site-packages (0.21.2)\n",
      "Requirement already satisfied: joblib>=0.11 in c:\\users\\user\\anaconda3\\lib\\site-packages (from scikit-learn) (0.13.2)\n",
      "Requirement already satisfied: scipy>=0.17.0 in c:\\users\\user\\anaconda3\\lib\\site-packages (from scikit-learn) (1.2.1)\n",
      "Requirement already satisfied: numpy>=1.11.0 in c:\\users\\user\\anaconda3\\lib\\site-packages (from scikit-learn) (1.16.4)\n",
      "Note: you may need to restart the kernel to use updated packages.\n"
     ]
    }
   ],
   "source": [
    "pip install scikit-learn"
   ]
  },
  {
   "cell_type": "code",
   "execution_count": 8,
   "metadata": {
    "colab": {},
    "colab_type": "code",
    "id": "8wFK0MCLEn_Z"
   },
   "outputs": [],
   "source": [
    "from sklearn.preprocessing import MinMaxScaler"
   ]
  },
  {
   "cell_type": "code",
   "execution_count": 9,
   "metadata": {
    "colab": {
     "base_uri": "https://localhost:8080/",
     "height": 1000
    },
    "colab_type": "code",
    "executionInfo": {
     "elapsed": 2210,
     "status": "ok",
     "timestamp": 1589257517150,
     "user": {
      "displayName": "최승일",
      "photoUrl": "",
      "userId": "12284834711713380669"
     },
     "user_tz": -540
    },
    "id": "4D1cFkUcGEow",
    "outputId": "ecb5326a-7f86-4314-8219-47e51ddfb0a0"
   },
   "outputs": [
    {
     "data": {
      "text/html": [
       "<div>\n",
       "<style scoped>\n",
       "    .dataframe tbody tr th:only-of-type {\n",
       "        vertical-align: middle;\n",
       "    }\n",
       "\n",
       "    .dataframe tbody tr th {\n",
       "        vertical-align: top;\n",
       "    }\n",
       "\n",
       "    .dataframe thead th {\n",
       "        text-align: right;\n",
       "    }\n",
       "</style>\n",
       "<table border=\"1\" class=\"dataframe\">\n",
       "  <thead>\n",
       "    <tr style=\"text-align: right;\">\n",
       "      <th></th>\n",
       "      <th>car_01_cat</th>\n",
       "      <th>car_02_cat</th>\n",
       "      <th>car_03_cat</th>\n",
       "      <th>car_04_cat</th>\n",
       "      <th>car_05</th>\n",
       "      <th>car_06</th>\n",
       "      <th>car_07_cat</th>\n",
       "      <th>car_08_cat</th>\n",
       "      <th>car_09</th>\n",
       "      <th>car_10</th>\n",
       "      <th>...</th>\n",
       "      <th>idx_14</th>\n",
       "      <th>idx_15_bin</th>\n",
       "      <th>idx_16_bin</th>\n",
       "      <th>idx_17</th>\n",
       "      <th>idx_18</th>\n",
       "      <th>idx_19</th>\n",
       "      <th>idx_20</th>\n",
       "      <th>loc_01</th>\n",
       "      <th>loc_02</th>\n",
       "      <th>loc_03</th>\n",
       "    </tr>\n",
       "  </thead>\n",
       "  <tbody>\n",
       "    <tr>\n",
       "      <th>0</th>\n",
       "      <td>0.235294</td>\n",
       "      <td>0.0</td>\n",
       "      <td>0.000000</td>\n",
       "      <td>0.106796</td>\n",
       "      <td>0.886405</td>\n",
       "      <td>0.837701</td>\n",
       "      <td>1.0</td>\n",
       "      <td>1.0</td>\n",
       "      <td>0.145294</td>\n",
       "      <td>1.00</td>\n",
       "      <td>...</td>\n",
       "      <td>0.5</td>\n",
       "      <td>0.0</td>\n",
       "      <td>0.0</td>\n",
       "      <td>0.0</td>\n",
       "      <td>0.230769</td>\n",
       "      <td>0.291667</td>\n",
       "      <td>0.111111</td>\n",
       "      <td>0.333333</td>\n",
       "      <td>0.777778</td>\n",
       "      <td>0.372883</td>\n",
       "    </tr>\n",
       "    <tr>\n",
       "      <th>1</th>\n",
       "      <td>0.000000</td>\n",
       "      <td>1.0</td>\n",
       "      <td>0.000000</td>\n",
       "      <td>0.368932</td>\n",
       "      <td>0.654654</td>\n",
       "      <td>0.839915</td>\n",
       "      <td>1.0</td>\n",
       "      <td>1.0</td>\n",
       "      <td>0.104945</td>\n",
       "      <td>0.50</td>\n",
       "      <td>...</td>\n",
       "      <td>0.9</td>\n",
       "      <td>0.0</td>\n",
       "      <td>1.0</td>\n",
       "      <td>0.0</td>\n",
       "      <td>0.461538</td>\n",
       "      <td>0.333333</td>\n",
       "      <td>0.111111</td>\n",
       "      <td>0.333333</td>\n",
       "      <td>0.666667</td>\n",
       "      <td>0.393356</td>\n",
       "    </tr>\n",
       "    <tr>\n",
       "      <th>2</th>\n",
       "      <td>0.000000</td>\n",
       "      <td>0.0</td>\n",
       "      <td>0.222222</td>\n",
       "      <td>0.961165</td>\n",
       "      <td>0.925820</td>\n",
       "      <td>0.869645</td>\n",
       "      <td>1.0</td>\n",
       "      <td>1.0</td>\n",
       "      <td>0.162837</td>\n",
       "      <td>0.25</td>\n",
       "      <td>...</td>\n",
       "      <td>0.9</td>\n",
       "      <td>0.0</td>\n",
       "      <td>0.0</td>\n",
       "      <td>0.0</td>\n",
       "      <td>0.076923</td>\n",
       "      <td>0.333333</td>\n",
       "      <td>0.333333</td>\n",
       "      <td>0.111111</td>\n",
       "      <td>1.000000</td>\n",
       "      <td>0.296868</td>\n",
       "    </tr>\n",
       "    <tr>\n",
       "      <th>3</th>\n",
       "      <td>0.529412</td>\n",
       "      <td>1.0</td>\n",
       "      <td>0.000000</td>\n",
       "      <td>0.893204</td>\n",
       "      <td>1.000000</td>\n",
       "      <td>0.804345</td>\n",
       "      <td>0.5</td>\n",
       "      <td>0.0</td>\n",
       "      <td>0.235589</td>\n",
       "      <td>1.00</td>\n",
       "      <td>...</td>\n",
       "      <td>0.5</td>\n",
       "      <td>0.0</td>\n",
       "      <td>0.0</td>\n",
       "      <td>0.3</td>\n",
       "      <td>0.230769</td>\n",
       "      <td>0.333333</td>\n",
       "      <td>0.444444</td>\n",
       "      <td>1.000000</td>\n",
       "      <td>1.000000</td>\n",
       "      <td>0.608690</td>\n",
       "    </tr>\n",
       "    <tr>\n",
       "      <th>4</th>\n",
       "      <td>0.000000</td>\n",
       "      <td>0.5</td>\n",
       "      <td>0.111111</td>\n",
       "      <td>1.000000</td>\n",
       "      <td>1.000000</td>\n",
       "      <td>0.873943</td>\n",
       "      <td>1.0</td>\n",
       "      <td>0.0</td>\n",
       "      <td>0.362867</td>\n",
       "      <td>0.75</td>\n",
       "      <td>...</td>\n",
       "      <td>0.4</td>\n",
       "      <td>0.0</td>\n",
       "      <td>0.0</td>\n",
       "      <td>0.1</td>\n",
       "      <td>0.076923</td>\n",
       "      <td>0.291667</td>\n",
       "      <td>0.444444</td>\n",
       "      <td>0.000000</td>\n",
       "      <td>0.444444</td>\n",
       "      <td>0.345449</td>\n",
       "    </tr>\n",
       "  </tbody>\n",
       "</table>\n",
       "<p>5 rows × 57 columns</p>\n",
       "</div>"
      ],
      "text/plain": [
       "   car_01_cat  car_02_cat  car_03_cat  car_04_cat    car_05    car_06  \\\n",
       "0    0.235294         0.0    0.000000    0.106796  0.886405  0.837701   \n",
       "1    0.000000         1.0    0.000000    0.368932  0.654654  0.839915   \n",
       "2    0.000000         0.0    0.222222    0.961165  0.925820  0.869645   \n",
       "3    0.529412         1.0    0.000000    0.893204  1.000000  0.804345   \n",
       "4    0.000000         0.5    0.111111    1.000000  1.000000  0.873943   \n",
       "\n",
       "   car_07_cat  car_08_cat    car_09  car_10  ...  idx_14  idx_15_bin  \\\n",
       "0         1.0         1.0  0.145294    1.00  ...     0.5         0.0   \n",
       "1         1.0         1.0  0.104945    0.50  ...     0.9         0.0   \n",
       "2         1.0         1.0  0.162837    0.25  ...     0.9         0.0   \n",
       "3         0.5         0.0  0.235589    1.00  ...     0.5         0.0   \n",
       "4         1.0         0.0  0.362867    0.75  ...     0.4         0.0   \n",
       "\n",
       "   idx_16_bin  idx_17    idx_18    idx_19    idx_20    loc_01    loc_02  \\\n",
       "0         0.0     0.0  0.230769  0.291667  0.111111  0.333333  0.777778   \n",
       "1         1.0     0.0  0.461538  0.333333  0.111111  0.333333  0.666667   \n",
       "2         0.0     0.0  0.076923  0.333333  0.333333  0.111111  1.000000   \n",
       "3         0.0     0.3  0.230769  0.333333  0.444444  1.000000  1.000000   \n",
       "4         0.0     0.1  0.076923  0.291667  0.444444  0.000000  0.444444   \n",
       "\n",
       "     loc_03  \n",
       "0  0.372883  \n",
       "1  0.393356  \n",
       "2  0.296868  \n",
       "3  0.608690  \n",
       "4  0.345449  \n",
       "\n",
       "[5 rows x 57 columns]"
      ]
     },
     "execution_count": 9,
     "metadata": {},
     "output_type": "execute_result"
    }
   ],
   "source": [
    "scaler = MinMaxScaler()\n",
    "df = pd.DataFrame(scaler.fit_transform(df), columns=df.columns)\n",
    "df.describe().T\n",
    "df.head()"
   ]
  },
  {
   "cell_type": "code",
   "execution_count": 10,
   "metadata": {
    "colab": {},
    "colab_type": "code",
    "id": "I1Lx4QDXGyZV"
   },
   "outputs": [],
   "source": [
    "from sklearn.model_selection import train_test_split\n",
    "x_train, x_test, y_train, y_test = train_test_split(df, y, test_size=0.3, stratify = y)"
   ]
  },
  {
   "cell_type": "code",
   "execution_count": 11,
   "metadata": {
    "colab": {},
    "colab_type": "code",
    "id": "_FchcwDrHvRQ"
   },
   "outputs": [],
   "source": [
    "from sklearn.linear_model import LogisticRegression\n",
    "from sklearn.neighbors import KNeighborsClassifier\n",
    "from sklearn.tree import DecisionTreeClassifier"
   ]
  },
  {
   "cell_type": "code",
   "execution_count": 12,
   "metadata": {
    "colab": {},
    "colab_type": "code",
    "id": "61RINM7xjJDy"
   },
   "outputs": [],
   "source": [
    "lr = LogisticRegression()\n",
    "knn = KNeighborsClassifier()\n",
    "dt = DecisionTreeClassifier()"
   ]
  },
  {
   "cell_type": "code",
   "execution_count": 13,
   "metadata": {
    "colab": {},
    "colab_type": "code",
    "id": "AOT_HqsJjU6S"
   },
   "outputs": [],
   "source": [
    "lr_param = {'solver':['newton-cg', 'lbfgs', 'liblinear', 'sag','saga'],\n",
    "            'C' : np.concatenate([np.arange(1,101)/100, np.arange(1,11)*10])}"
   ]
  },
  {
   "cell_type": "code",
   "execution_count": 14,
   "metadata": {
    "colab": {},
    "colab_type": "code",
    "id": "Z3OBwEsqjjfm"
   },
   "outputs": [],
   "source": [
    "knn_param = {'n_neighbors':np.arange(1,201),\n",
    "             'weights' : ['uniform','distance'],\n",
    "             'p' : np.arange(10, 21)/10}"
   ]
  },
  {
   "cell_type": "code",
   "execution_count": 15,
   "metadata": {
    "colab": {},
    "colab_type": "code",
    "id": "qFH5pOcLjn21"
   },
   "outputs": [],
   "source": [
    "dt_param = {'criterion':['gini','entropy'],\n",
    "            'max_depth': np.arange(1,31)}"
   ]
  },
  {
   "cell_type": "code",
   "execution_count": 16,
   "metadata": {
    "colab": {},
    "colab_type": "code",
    "id": "AjHvTmg3jsFP"
   },
   "outputs": [],
   "source": [
    "from sklearn.model_selection import RandomizedSearchCV"
   ]
  },
  {
   "cell_type": "code",
   "execution_count": 17,
   "metadata": {
    "colab": {},
    "colab_type": "code",
    "id": "TOAUpYdej6kB"
   },
   "outputs": [],
   "source": [
    "lr_best = RandomizedSearchCV(estimator=lr, param_distributions=lr_param, n_iter=15, cv=5, scoring='roc_auc', refit=True, n_jobs=-1)\n",
    "knn_best = RandomizedSearchCV(estimator=knn, param_distributions=knn_param, n_iter=15, cv=5, scoring='roc_auc', refit=True, n_jobs=-1)\n",
    "dt_best = RandomizedSearchCV(estimator=dt, param_distributions=dt_param, n_iter=15, cv=5, scoring='roc_auc', refit=True, n_jobs=-1)"
   ]
  },
  {
   "cell_type": "code",
   "execution_count": null,
   "metadata": {
    "colab": {
     "base_uri": "https://localhost:8080/",
     "height": 217
    },
    "colab_type": "code",
    "executionInfo": {
     "elapsed": 6544,
     "status": "error",
     "timestamp": 1589086883754,
     "user": {
      "displayName": "최승일",
      "photoUrl": "",
      "userId": "12284834711713380669"
     },
     "user_tz": -540
    },
    "id": "My_lNvVGj_Js",
    "outputId": "93628052-58ad-4cab-c4f9-d76e9f273d20"
   },
   "outputs": [],
   "source": [
    "lr_best.fit(x_train, y_train)\n",
    "knn_best.fit(x_train, y_train)\n",
    "dt_best.fit(x_train, y_train)"
   ]
  },
  {
   "cell_type": "code",
   "execution_count": null,
   "metadata": {
    "colab": {
     "base_uri": "https://localhost:8080/",
     "height": 208
    },
    "colab_type": "code",
    "executionInfo": {
     "elapsed": 798,
     "status": "error",
     "timestamp": 1589246035748,
     "user": {
      "displayName": "최승일",
      "photoUrl": "",
      "userId": "12284834711713380669"
     },
     "user_tz": -540
    },
    "id": "vKffvO4AkI3q",
    "outputId": "47140385-f5ab-4c80-e1f2-0bfda672262b"
   },
   "outputs": [],
   "source": [
    "print(lr_best.best_params_)\n",
    "print(knn_best.best_params_)\n",
    "print(dt_best.best_params_)"
   ]
  },
  {
   "cell_type": "code",
   "execution_count": null,
   "metadata": {
    "colab": {
     "base_uri": "https://localhost:8080/",
     "height": 208
    },
    "colab_type": "code",
    "executionInfo": {
     "elapsed": 778,
     "status": "error",
     "timestamp": 1589246045457,
     "user": {
      "displayName": "최승일",
      "photoUrl": "",
      "userId": "12284834711713380669"
     },
     "user_tz": -540
    },
    "id": "t27nLPnGrcSz",
    "outputId": "1e06b888-1b0d-4abb-9c39-ff176e457ed3"
   },
   "outputs": [],
   "source": [
    "lr_best = lr_best.best_estimator_\n",
    "knn_best = knn_best.best_estimator_\n",
    "dt_best = dt_best.best_estimator_"
   ]
  },
  {
   "cell_type": "code",
   "execution_count": null,
   "metadata": {
    "colab": {
     "base_uri": "https://localhost:8080/",
     "height": 172
    },
    "colab_type": "code",
    "executionInfo": {
     "elapsed": 714,
     "status": "error",
     "timestamp": 1589246051848,
     "user": {
      "displayName": "최승일",
      "photoUrl": "",
      "userId": "12284834711713380669"
     },
     "user_tz": -540
    },
    "id": "psPXx24Urj_w",
    "outputId": "18ed045b-0758-42f5-8df2-7444191c9917"
   },
   "outputs": [],
   "source": [
    "pd.Series(lr_best.coef_[0], index=x_train.columns)"
   ]
  },
  {
   "cell_type": "code",
   "execution_count": null,
   "metadata": {
    "colab": {
     "base_uri": "https://localhost:8080/",
     "height": 334
    },
    "colab_type": "code",
    "executionInfo": {
     "elapsed": 750,
     "status": "error",
     "timestamp": 1589246317534,
     "user": {
      "displayName": "최승일",
      "photoUrl": "",
      "userId": "12284834711713380669"
     },
     "user_tz": -540
    },
    "id": "KuMlXufackLc",
    "outputId": "e5f6a435-8f1d-423a-d402-9cf5df27308f"
   },
   "outputs": [],
   "source": [
    "def plot_feature_importances(model):\n",
    "    n_features = x_train.shape[1]\n",
    "    plt.barh(range(n_features), model.feature_importances_, align='center')\n",
    "    plt.yticks(np.arange(n_features), x_train.columns)\n",
    "    plt.xlabel(\"Feature Importance\")\n",
    "    plt.ylabel(\"Features\")\n",
    "    plt.ylim(-1, n_features)\n",
    "    plt.show()\n",
    "\n",
    "plot_feature_importances(dt_best)"
   ]
  },
  {
   "cell_type": "code",
   "execution_count": null,
   "metadata": {
    "colab": {},
    "colab_type": "code",
    "id": "vI9oUgGzdlCH"
   },
   "outputs": [],
   "source": [
    "from sklearn.ensemble import VotingClassifier"
   ]
  },
  {
   "cell_type": "code",
   "execution_count": null,
   "metadata": {
    "colab": {},
    "colab_type": "code",
    "id": "EPwu0EsLdmHD"
   },
   "outputs": [],
   "source": [
    "hard_vot = VotingClassifier(estimators=[('LR', lr_best), ('KNN', knn_best), ('DT', dt_best)], voting='hard')\n",
    "soft_vot = VotingClassifier(estimators=[('LR', lr_best), ('KNN', knn_best), ('DT', dt_best)], voting='soft')"
   ]
  },
  {
   "cell_type": "code",
   "execution_count": null,
   "metadata": {
    "colab": {
     "base_uri": "https://localhost:8080/",
     "height": 970
    },
    "colab_type": "code",
    "executionInfo": {
     "elapsed": 2609,
     "status": "error",
     "timestamp": 1589246344721,
     "user": {
      "displayName": "최승일",
      "photoUrl": "",
      "userId": "12284834711713380669"
     },
     "user_tz": -540
    },
    "id": "BLF33ob2dopL",
    "outputId": "9461a823-4768-45ef-97b2-191c4669ae81"
   },
   "outputs": [],
   "source": [
    "hard_vot.fit(x_train, y_train)\n",
    "soft_vot.fit(x_train, y_train)"
   ]
  },
  {
   "cell_type": "code",
   "execution_count": null,
   "metadata": {
    "colab": {
     "base_uri": "https://localhost:8080/",
     "height": 394
    },
    "colab_type": "code",
    "executionInfo": {
     "elapsed": 735,
     "status": "error",
     "timestamp": 1589246360213,
     "user": {
      "displayName": "최승일",
      "photoUrl": "",
      "userId": "12284834711713380669"
     },
     "user_tz": -540
    },
    "id": "xZBdbn2WdrOi",
    "outputId": "d690d22b-66e7-45ea-94c8-364f5281ed9a"
   },
   "outputs": [],
   "source": [
    "from sklearn.metrics import roc_auc_score\n",
    "models = [lr_best, knn_best, dt_best, hard_vot, soft_vot]\n",
    "for model in models:\n",
    "    pred = model.predict(x_test)\n",
    "    name = model.__class__.__name__\n",
    "    print('{0} 정확도: {1:.4f}'.format(name, roc_auc_score(y_test, pred)))"
   ]
  },
  {
   "cell_type": "code",
   "execution_count": null,
   "metadata": {
    "colab": {},
    "colab_type": "code",
    "id": "pzwnJNn8dvd6"
   },
   "outputs": [],
   "source": [
    "from sklearn.ensemble import RandomForestClassifier\n",
    "rf = RandomForestClassifier()"
   ]
  },
  {
   "cell_type": "code",
   "execution_count": null,
   "metadata": {
    "colab": {},
    "colab_type": "code",
    "id": "GQaQFVi3d0di"
   },
   "outputs": [],
   "source": [
    "rf_param = {'n_estimators':np.arange(2,101),\n",
    "            'max_depth':np.arange(1,31),\n",
    "            'criterion':['gini','entropy']}"
   ]
  },
  {
   "cell_type": "code",
   "execution_count": null,
   "metadata": {
    "colab": {
     "base_uri": "https://localhost:8080/",
     "height": 1000
    },
    "colab_type": "code",
    "executionInfo": {
     "elapsed": 4122,
     "status": "error",
     "timestamp": 1589246464156,
     "user": {
      "displayName": "최승일",
      "photoUrl": "",
      "userId": "12284834711713380669"
     },
     "user_tz": -540
    },
    "id": "wWglpKmRd62X",
    "outputId": "7dd4fac0-1395-4eb8-904c-515e5ae439a4"
   },
   "outputs": [],
   "source": [
    "rf_best = RandomizedSearchCV(estimator=rf, param_distributions=rf_param, n_iter=15, cv=5, scoring='roc_auc', refit=True, n_jobs=-1)\n",
    "rf_best.fit(x_train, y_train)\n",
    "print(rf_best.best_params_)\n",
    "rf_best = rf_best.best_estimator_"
   ]
  },
  {
   "cell_type": "code",
   "execution_count": null,
   "metadata": {
    "colab": {
     "base_uri": "https://localhost:8080/",
     "height": 35
    },
    "colab_type": "code",
    "executionInfo": {
     "elapsed": 781,
     "status": "ok",
     "timestamp": 1589246477210,
     "user": {
      "displayName": "최승일",
      "photoUrl": "",
      "userId": "12284834711713380669"
     },
     "user_tz": -540
    },
    "id": "ogkrB9yjeIAz",
    "outputId": "3de462a4-c072-489b-847c-7da51314ef5d"
   },
   "outputs": [],
   "source": [
    "{'n_estimators': 95, 'max_depth': 8, 'criterion': 'entropy'}"
   ]
  },
  {
   "cell_type": "code",
   "execution_count": null,
   "metadata": {
    "colab": {
     "base_uri": "https://localhost:8080/",
     "height": 394
    },
    "colab_type": "code",
    "executionInfo": {
     "elapsed": 945,
     "status": "error",
     "timestamp": 1589247280506,
     "user": {
      "displayName": "최승일",
      "photoUrl": "",
      "userId": "12284834711713380669"
     },
     "user_tz": -540
    },
    "id": "hqKpRMjoeMBL",
    "outputId": "4ebac1de-4ab4-4fee-8934-6ff185d253c1"
   },
   "outputs": [],
   "source": [
    "models = [lr_best, knn_best, dt_best, hard_vot, soft_vot, rf_best]\n",
    "for model in models:\n",
    "    pred = model.predict(x_test)\n",
    "    name = model.__class__.__name__\n",
    "    print('{0} 정확도: {1:.4f}'.format(name, roc_auc_score(y_test, pred)))"
   ]
  },
  {
   "cell_type": "code",
   "execution_count": null,
   "metadata": {
    "colab": {
     "base_uri": "https://localhost:8080/",
     "height": 226
    },
    "colab_type": "code",
    "executionInfo": {
     "elapsed": 760,
     "status": "error",
     "timestamp": 1589247318850,
     "user": {
      "displayName": "최승일",
      "photoUrl": "",
      "userId": "12284834711713380669"
     },
     "user_tz": -540
    },
    "id": "uPDBq5WzhQGJ",
    "outputId": "023e6469-99b5-4322-a243-ea8a74b63da1"
   },
   "outputs": [],
   "source": [
    "f_imp = rf_best.feature_importances_\n",
    "f_imp = pd.Series(f_imp, index=x_train.columns)\n",
    "f_imp = f_imp.sort_values(ascending=False)\n",
    "f_imp"
   ]
  },
  {
   "cell_type": "code",
   "execution_count": null,
   "metadata": {
    "colab": {
     "base_uri": "https://localhost:8080/",
     "height": 190
    },
    "colab_type": "code",
    "executionInfo": {
     "elapsed": 808,
     "status": "error",
     "timestamp": 1589247475221,
     "user": {
      "displayName": "최승일",
      "photoUrl": "",
      "userId": "12284834711713380669"
     },
     "user_tz": -540
    },
    "id": "5DWRepFmhZgB",
    "outputId": "7bdcd49d-414c-4099-aaca-731df4031e9c"
   },
   "outputs": [],
   "source": [
    "plt.figure(figsize=(8,6))\n",
    "sns.barplot(x=f_imp, y=f_imp.index);"
   ]
  },
  {
   "cell_type": "code",
   "execution_count": null,
   "metadata": {
    "colab": {},
    "colab_type": "code",
    "id": "zYBOURPOh_qy"
   },
   "outputs": [],
   "source": [
    "from sklearn.ensemble import AdaBoostClassifier\n",
    "ada = AdaBoostClassifier(base_estimator=dt_best)"
   ]
  },
  {
   "cell_type": "code",
   "execution_count": null,
   "metadata": {
    "colab": {},
    "colab_type": "code",
    "id": "fupW0VUtiCzS"
   },
   "outputs": [],
   "source": [
    "ada_param = {'n_estimators' : np.arange(2, 101),\n",
    "             'learning_rate' : np.arange(1,101)/100,\n",
    "             'algorithm': ['SAMME','SAMME.R']}"
   ]
  },
  {
   "cell_type": "code",
   "execution_count": null,
   "metadata": {
    "colab": {
     "base_uri": "https://localhost:8080/",
     "height": 376
    },
    "colab_type": "code",
    "executionInfo": {
     "elapsed": 3228,
     "status": "error",
     "timestamp": 1589247508693,
     "user": {
      "displayName": "최승일",
      "photoUrl": "",
      "userId": "12284834711713380669"
     },
     "user_tz": -540
    },
    "id": "ALN9re5KiFDp",
    "outputId": "e661c2d3-2ded-4f18-9ee3-89c62cb260ce"
   },
   "outputs": [],
   "source": [
    "ada_best = RandomizedSearchCV(estimator=ada, param_distributions=ada_param, n_iter=15, cv=5, scoring='roc_auc', refit=True, n_jobs=-1)\n",
    "ada_best.fit(x_train, y_train)\n",
    "print(ada_best.best_params_)\n",
    "ada_best = ada_best.best_estimator_"
   ]
  },
  {
   "cell_type": "code",
   "execution_count": null,
   "metadata": {
    "colab": {
     "base_uri": "https://localhost:8080/",
     "height": 394
    },
    "colab_type": "code",
    "executionInfo": {
     "elapsed": 781,
     "status": "error",
     "timestamp": 1589247519363,
     "user": {
      "displayName": "최승일",
      "photoUrl": "",
      "userId": "12284834711713380669"
     },
     "user_tz": -540
    },
    "id": "viuBjON5iHP5",
    "outputId": "0404231a-2f17-490e-8554-8a2b36cc27cc"
   },
   "outputs": [],
   "source": [
    "models = [lr_best, knn_best, dt_best, hard_vot, soft_vot, rf_best, ada_best]\n",
    "for model in models:\n",
    "    pred = model.predict(x_test)\n",
    "    name = model.__class__.__name__\n",
    "    print('{0} 정확도: {1:.4f}'.format(name, roc_auc_score(y_test, pred)))"
   ]
  },
  {
   "cell_type": "code",
   "execution_count": null,
   "metadata": {
    "colab": {},
    "colab_type": "code",
    "id": "X9w4q2n8iKc5"
   },
   "outputs": [],
   "source": [
    "from sklearn.ensemble import GradientBoostingClassifier\n",
    "gb = GradientBoostingClassifier()"
   ]
  },
  {
   "cell_type": "code",
   "execution_count": null,
   "metadata": {
    "colab": {
     "base_uri": "https://localhost:8080/",
     "height": 394
    },
    "colab_type": "code",
    "executionInfo": {
     "elapsed": 782,
     "status": "error",
     "timestamp": 1589247552707,
     "user": {
      "displayName": "최승일",
      "photoUrl": "",
      "userId": "12284834711713380669"
     },
     "user_tz": -540
    },
    "id": "zxgDnh12iNFJ",
    "outputId": "03aa1bcd-f1be-40b6-8a60-b4f1a48db8e1"
   },
   "outputs": [],
   "source": [
    "gb.fit(x_train, y_train)\n",
    "#gb_best = RandomizedSearchCV(estimator=gb, param_distributions=gb_param, n_iter=15, cv=5, scoring='roc_auc', refit=True, n_jobs=-1)\n",
    "#gb_best.fit(x_train, y_train)\n",
    "#print(gb_best.best_params_)\n",
    "#gb_best = gb_best.best_estimator_"
   ]
  },
  {
   "cell_type": "code",
   "execution_count": null,
   "metadata": {
    "colab": {
     "base_uri": "https://localhost:8080/",
     "height": 394
    },
    "colab_type": "code",
    "executionInfo": {
     "elapsed": 769,
     "status": "error",
     "timestamp": 1589247563227,
     "user": {
      "displayName": "최승일",
      "photoUrl": "",
      "userId": "12284834711713380669"
     },
     "user_tz": -540
    },
    "id": "3NE--2chiSly",
    "outputId": "52276a62-4d2e-45ca-9cb3-ee7951477646"
   },
   "outputs": [],
   "source": [
    "models = [lr_best, knn_best, dt_best, hard_vot, soft_vot, rf_best, ada_best, gb]\n",
    "for model in models:\n",
    "    pred = model.predict(x_test)\n",
    "    name = model.__class__.__name__\n",
    "    print('{0} 정확도: {1:.4f}'.format(name, roc_auc_score(y_test, pred)))"
   ]
  },
  {
   "cell_type": "code",
   "execution_count": null,
   "metadata": {
    "colab": {
     "base_uri": "https://localhost:8080/",
     "height": 394
    },
    "colab_type": "code",
    "executionInfo": {
     "elapsed": 815,
     "status": "error",
     "timestamp": 1589247575694,
     "user": {
      "displayName": "최승일",
      "photoUrl": "",
      "userId": "12284834711713380669"
     },
     "user_tz": -540
    },
    "id": "oFePZiGoiVKZ",
    "outputId": "bca85373-169a-4b3e-db22-735239f08d0e"
   },
   "outputs": [],
   "source": [
    "models = [lr_best, knn_best, dt_best, hard_vot, soft_vot, rf_best, ada_best, gb]\n",
    "score = []\n",
    "names = []\n",
    "for model in models:\n",
    "    pred = model.predict(x_test)\n",
    "    name = model.__class__.__name__\n",
    "    score.append(roc_auc_score(y_test, pred))\n",
    "    names.append(name)\n",
    "results = pd.Series(score, index=names)\n",
    "results"
   ]
  },
  {
   "cell_type": "code",
   "execution_count": null,
   "metadata": {
    "colab": {
     "base_uri": "https://localhost:8080/",
     "height": 208
    },
    "colab_type": "code",
    "executionInfo": {
     "elapsed": 970,
     "status": "error",
     "timestamp": 1589247599215,
     "user": {
      "displayName": "최승일",
      "photoUrl": "",
      "userId": "12284834711713380669"
     },
     "user_tz": -540
    },
    "id": "lb-5SnvviYMi",
    "outputId": "f1cdedc1-2027-4011-e411-97762fd8aa0e"
   },
   "outputs": [],
   "source": [
    "plt.figure(figsize=(8,6))\n",
    "g = sns.barplot(x=results.index, y=results)\n",
    "g.set_xticklabels(labels=results.index, rotation=90);"
   ]
  },
  {
   "cell_type": "code",
   "execution_count": 0,
   "metadata": {
    "colab": {},
    "colab_type": "code",
    "id": "vQTT0u8bid5q"
   },
   "outputs": [],
   "source": []
  }
 ],
 "metadata": {
  "colab": {
   "authorship_tag": "ABX9TyOv1LQyKnC2tHLo1+6cOoJn",
   "collapsed_sections": [],
   "name": "Untitled0.ipynb",
   "provenance": []
  },
  "kernelspec": {
   "display_name": "Python 3",
   "language": "python",
   "name": "python3"
  },
  "language_info": {
   "codemirror_mode": {
    "name": "ipython",
    "version": 3
   },
   "file_extension": ".py",
   "mimetype": "text/x-python",
   "name": "python",
   "nbconvert_exporter": "python",
   "pygments_lexer": "ipython3",
   "version": "3.7.3"
  }
 },
 "nbformat": 4,
 "nbformat_minor": 1
}
